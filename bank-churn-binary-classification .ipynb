{
 "cells": [
  {
   "cell_type": "markdown",
   "metadata": {},
   "source": [
    "<div style=\"\n",
    "    background: linear-gradient(to right, #fbb4ae, #b3cde3); /* Soft pastel pink to pastel blue */\n",
    "    padding: 30px; \n",
    "    border-radius: 15px;\n",
    "    color: #377eb8; /* Deep pastel blue */\n",
    "    font-weight: bold; \n",
    "    text-align: center;\n",
    "    font-size: 28px; \n",
    "    font-family: 'Comic Sans MS', sans-serif; /* Playful font */\n",
    "    box-shadow: 0px 4px 8px rgba(0, 0, 0, 0.1);\n",
    "\">\n",
    "    Bank Churn Binary Classification\n",
    "</div>\n"
   ]
  },
  {
   "cell_type": "markdown",
   "metadata": {},
   "source": [
    "<div style=\"\n",
    "    padding: 15px; \n",
    "    color: #377eb8; /* Pastel blue */\n",
    "    font-weight: bold; \n",
    "    font-size: 20px; \n",
    "    font-family: 'Arial', sans-serif; /* Clean, simple font for contrast */\n",
    "    text-align: left; /* Left-aligned */\n",
    "    background-color: #f7f4f9; /* Soft pastel lavender background */\n",
    "    margin-top: 10px; /* Space between title and subtitle */\n",
    "    box-shadow: 0px 4px 8px rgba(0, 0, 0, 0.2); /* Adding a soft shadow effect */\n",
    "\">\n",
    "    Import Some Important Libraries:\n",
    "</div>\n"
   ]
  },
  {
   "cell_type": "code",
   "execution_count": 1,
   "metadata": {
    "execution": {
     "iopub.execute_input": "2024-11-28T21:24:56.040647Z",
     "iopub.status.busy": "2024-11-28T21:24:56.040217Z",
     "iopub.status.idle": "2024-11-28T21:24:56.047543Z",
     "shell.execute_reply": "2024-11-28T21:24:56.046215Z",
     "shell.execute_reply.started": "2024-11-28T21:24:56.040616Z"
    },
    "trusted": true
   },
   "outputs": [
    {
     "name": "stderr",
     "output_type": "stream",
     "text": [
      "c:\\Users\\Ayman\\anaconda3\\lib\\site-packages\\scipy\\__init__.py:146: UserWarning: A NumPy version >=1.16.5 and <1.23.0 is required for this version of SciPy (detected version 1.26.4\n",
      "  warnings.warn(f\"A NumPy version >={np_minversion} and <{np_maxversion}\"\n"
     ]
    }
   ],
   "source": [
    "import pandas as pd\n",
    "import numpy as np\n",
    "import matplotlib.pyplot as plt\n",
    "import seaborn as sns\n",
    "from sklearn.pipeline import make_pipeline\n",
    "from sklearn.compose import ColumnTransformer\n",
    "from sklearn.impute import SimpleImputer\n",
    "from sklearn.preprocessing import StandardScaler, OneHotEncoder\n",
    "from sklearn.ensemble import RandomForestRegressor, GradientBoostingRegressor\n",
    "from sklearn.linear_model import LinearRegression\n",
    "from sklearn.tree import DecisionTreeRegressor\n",
    "from sklearn.ensemble import VotingRegressor\n",
    "from sklearn.model_selection import train_test_split\n",
    "from sklearn.metrics import mean_absolute_error"
   ]
  },
  {
   "cell_type": "markdown",
   "metadata": {},
   "source": [
    "<div style=\"\n",
    "    padding: 15px; \n",
    "    color: #377eb8; /* Pastel blue */\n",
    "    font-weight: bold; \n",
    "    font-size: 20px; \n",
    "    font-family: 'Arial', sans-serif; /* Clean, simple font for contrast */\n",
    "    text-align: left; /* Left-aligned */\n",
    "    background-color: #f7f4f9; /* Soft pastel lavender background */\n",
    "    margin-top: 10px; /* Space between title and subtitle */\n",
    "    box-shadow: 0px 4px 8px rgba(0, 0, 0, 0.2); /* Adding a soft shadow effect */\n",
    "\">\n",
    "    Remove warnings:\n",
    "</div"
   ]
  },
  {
   "cell_type": "code",
   "execution_count": 2,
   "metadata": {
    "execution": {
     "iopub.execute_input": "2024-11-28T21:24:56.058451Z",
     "iopub.status.busy": "2024-11-28T21:24:56.057217Z",
     "iopub.status.idle": "2024-11-28T21:24:56.066100Z",
     "shell.execute_reply": "2024-11-28T21:24:56.065003Z",
     "shell.execute_reply.started": "2024-11-28T21:24:56.058409Z"
    },
    "trusted": true
   },
   "outputs": [],
   "source": [
    "import warnings\n",
    "warnings.simplefilter(\"ignore\")"
   ]
  },
  {
   "cell_type": "markdown",
   "metadata": {},
   "source": [
    "<div style=\"\n",
    "    padding: 15px; \n",
    "    color: #377eb8; /* Pastel blue */\n",
    "    font-weight: bold; \n",
    "    font-size: 20px; \n",
    "    font-family: 'Arial', sans-serif; /* Clean, simple font for contrast */\n",
    "    text-align: left; /* Left-aligned */\n",
    "    background-color: #f7f4f9; /* Soft pastel lavender background */\n",
    "    margin-top: 10px; /* Space between title and subtitle */\n",
    "    box-shadow: 0px 4px 8px rgba(0, 0, 0, 0.2); /* Adding a soft shadow effect */\n",
    "\">\n",
    "    Display all columns and rows in the output:\n",
    "</div>\n"
   ]
  },
  {
   "cell_type": "code",
   "execution_count": 3,
   "metadata": {
    "execution": {
     "iopub.execute_input": "2024-11-28T21:24:56.071933Z",
     "iopub.status.busy": "2024-11-28T21:24:56.070947Z",
     "iopub.status.idle": "2024-11-28T21:24:56.080485Z",
     "shell.execute_reply": "2024-11-28T21:24:56.079492Z",
     "shell.execute_reply.started": "2024-11-28T21:24:56.071903Z"
    },
    "trusted": true
   },
   "outputs": [],
   "source": [
    "pd.set_option(\"display.max_columns\",None)\n",
    "pd.set_option('display.max_rows',None)"
   ]
  },
  {
   "cell_type": "markdown",
   "metadata": {},
   "source": [
    "<div style=\"\n",
    "    padding: 15px; \n",
    "    color: #377eb8; /* Pastel blue */\n",
    "    font-weight: bold; \n",
    "    font-size: 20px; \n",
    "    font-family: 'Arial', sans-serif; /* Clean, simple font for contrast */\n",
    "    text-align: left; /* Left-aligned */\n",
    "    background-color: #f7f4f9; /* Soft pastel lavender background */\n",
    "    margin-top: 10px; /* Space between title and subtitle */\n",
    "    box-shadow: 0px 4px 8px rgba(0, 0, 0, 0.2); /* Adding a soft shadow effect */\n",
    "\">\n",
    "    Load our data:\n",
    "</div>\n"
   ]
  },
  {
   "cell_type": "code",
   "execution_count": 4,
   "metadata": {
    "execution": {
     "iopub.execute_input": "2024-11-28T21:24:56.086426Z",
     "iopub.status.busy": "2024-11-28T21:24:56.086022Z",
     "iopub.status.idle": "2024-11-28T21:24:56.817778Z",
     "shell.execute_reply": "2024-11-28T21:24:56.816626Z",
     "shell.execute_reply.started": "2024-11-28T21:24:56.086394Z"
    },
    "trusted": true
   },
   "outputs": [],
   "source": [
    "train_data = pd.read_csv('train.csv')\n",
    "test_data = pd.read_csv('test.csv')\n"
   ]
  },
  {
   "cell_type": "markdown",
   "metadata": {},
   "source": [
    "<div style=\"\n",
    "    padding: 15px; \n",
    "    color: #377eb8; /* Pastel blue */\n",
    "    font-weight: bold; \n",
    "    font-size: 20px; \n",
    "    font-family: 'Arial', sans-serif; /* Clean, simple font for contrast */\n",
    "    text-align: left; /* Left-aligned */\n",
    "    background-color: #f7f4f9; /* Soft pastel lavender background */\n",
    "    margin-top: 10px; /* Space between title and subtitle */\n",
    "    box-shadow: 0px 4px 8px rgba(0, 0, 0, 0.2); /* Adding a soft shadow effect */\n",
    "\">\n",
    "    Let's have information about the dataset:\n",
    "</div>\n"
   ]
  },
  {
   "cell_type": "code",
   "execution_count": 5,
   "metadata": {
    "execution": {
     "iopub.execute_input": "2024-11-28T21:24:56.820174Z",
     "iopub.status.busy": "2024-11-28T21:24:56.819779Z",
     "iopub.status.idle": "2024-11-28T21:24:56.846525Z",
     "shell.execute_reply": "2024-11-28T21:24:56.845156Z",
     "shell.execute_reply.started": "2024-11-28T21:24:56.820142Z"
    },
    "trusted": true
   },
   "outputs": [
    {
     "data": {
      "text/html": [
       "<div>\n",
       "<style scoped>\n",
       "    .dataframe tbody tr th:only-of-type {\n",
       "        vertical-align: middle;\n",
       "    }\n",
       "\n",
       "    .dataframe tbody tr th {\n",
       "        vertical-align: top;\n",
       "    }\n",
       "\n",
       "    .dataframe thead th {\n",
       "        text-align: right;\n",
       "    }\n",
       "</style>\n",
       "<table border=\"1\" class=\"dataframe\">\n",
       "  <thead>\n",
       "    <tr style=\"text-align: right;\">\n",
       "      <th></th>\n",
       "      <th>id</th>\n",
       "      <th>CustomerId</th>\n",
       "      <th>Surname</th>\n",
       "      <th>CreditScore</th>\n",
       "      <th>Geography</th>\n",
       "      <th>Gender</th>\n",
       "      <th>Age</th>\n",
       "      <th>Tenure</th>\n",
       "      <th>Balance</th>\n",
       "      <th>NumOfProducts</th>\n",
       "      <th>HasCrCard</th>\n",
       "      <th>IsActiveMember</th>\n",
       "      <th>EstimatedSalary</th>\n",
       "      <th>Exited</th>\n",
       "    </tr>\n",
       "  </thead>\n",
       "  <tbody>\n",
       "    <tr>\n",
       "      <th>0</th>\n",
       "      <td>0</td>\n",
       "      <td>15674932</td>\n",
       "      <td>Okwudilichukwu</td>\n",
       "      <td>668</td>\n",
       "      <td>France</td>\n",
       "      <td>Male</td>\n",
       "      <td>33.0</td>\n",
       "      <td>3</td>\n",
       "      <td>0.00</td>\n",
       "      <td>2</td>\n",
       "      <td>1.0</td>\n",
       "      <td>0.0</td>\n",
       "      <td>181449.97</td>\n",
       "      <td>0</td>\n",
       "    </tr>\n",
       "    <tr>\n",
       "      <th>1</th>\n",
       "      <td>1</td>\n",
       "      <td>15749177</td>\n",
       "      <td>Okwudiliolisa</td>\n",
       "      <td>627</td>\n",
       "      <td>France</td>\n",
       "      <td>Male</td>\n",
       "      <td>33.0</td>\n",
       "      <td>1</td>\n",
       "      <td>0.00</td>\n",
       "      <td>2</td>\n",
       "      <td>1.0</td>\n",
       "      <td>1.0</td>\n",
       "      <td>49503.50</td>\n",
       "      <td>0</td>\n",
       "    </tr>\n",
       "    <tr>\n",
       "      <th>2</th>\n",
       "      <td>2</td>\n",
       "      <td>15694510</td>\n",
       "      <td>Hsueh</td>\n",
       "      <td>678</td>\n",
       "      <td>France</td>\n",
       "      <td>Male</td>\n",
       "      <td>40.0</td>\n",
       "      <td>10</td>\n",
       "      <td>0.00</td>\n",
       "      <td>2</td>\n",
       "      <td>1.0</td>\n",
       "      <td>0.0</td>\n",
       "      <td>184866.69</td>\n",
       "      <td>0</td>\n",
       "    </tr>\n",
       "    <tr>\n",
       "      <th>3</th>\n",
       "      <td>3</td>\n",
       "      <td>15741417</td>\n",
       "      <td>Kao</td>\n",
       "      <td>581</td>\n",
       "      <td>France</td>\n",
       "      <td>Male</td>\n",
       "      <td>34.0</td>\n",
       "      <td>2</td>\n",
       "      <td>148882.54</td>\n",
       "      <td>1</td>\n",
       "      <td>1.0</td>\n",
       "      <td>1.0</td>\n",
       "      <td>84560.88</td>\n",
       "      <td>0</td>\n",
       "    </tr>\n",
       "    <tr>\n",
       "      <th>4</th>\n",
       "      <td>4</td>\n",
       "      <td>15766172</td>\n",
       "      <td>Chiemenam</td>\n",
       "      <td>716</td>\n",
       "      <td>Spain</td>\n",
       "      <td>Male</td>\n",
       "      <td>33.0</td>\n",
       "      <td>5</td>\n",
       "      <td>0.00</td>\n",
       "      <td>2</td>\n",
       "      <td>1.0</td>\n",
       "      <td>1.0</td>\n",
       "      <td>15068.83</td>\n",
       "      <td>0</td>\n",
       "    </tr>\n",
       "  </tbody>\n",
       "</table>\n",
       "</div>"
      ],
      "text/plain": [
       "   id  CustomerId         Surname  CreditScore Geography Gender   Age  Tenure  \\\n",
       "0   0    15674932  Okwudilichukwu          668    France   Male  33.0       3   \n",
       "1   1    15749177   Okwudiliolisa          627    France   Male  33.0       1   \n",
       "2   2    15694510           Hsueh          678    France   Male  40.0      10   \n",
       "3   3    15741417             Kao          581    France   Male  34.0       2   \n",
       "4   4    15766172       Chiemenam          716     Spain   Male  33.0       5   \n",
       "\n",
       "     Balance  NumOfProducts  HasCrCard  IsActiveMember  EstimatedSalary  \\\n",
       "0       0.00              2        1.0             0.0        181449.97   \n",
       "1       0.00              2        1.0             1.0         49503.50   \n",
       "2       0.00              2        1.0             0.0        184866.69   \n",
       "3  148882.54              1        1.0             1.0         84560.88   \n",
       "4       0.00              2        1.0             1.0         15068.83   \n",
       "\n",
       "   Exited  \n",
       "0       0  \n",
       "1       0  \n",
       "2       0  \n",
       "3       0  \n",
       "4       0  "
      ]
     },
     "execution_count": 5,
     "metadata": {},
     "output_type": "execute_result"
    }
   ],
   "source": [
    "train_data.head()"
   ]
  },
  {
   "cell_type": "code",
   "execution_count": 6,
   "metadata": {},
   "outputs": [
    {
     "data": {
      "text/plain": [
       "0    181449.97\n",
       "1     49503.50\n",
       "2    184866.69\n",
       "3     84560.88\n",
       "4     15068.83\n",
       "5    136024.31\n",
       "6     29792.11\n",
       "Name: EstimatedSalary, dtype: float64"
      ]
     },
     "execution_count": 6,
     "metadata": {},
     "output_type": "execute_result"
    }
   ],
   "source": [
    "train_data[\"EstimatedSalary\"][0:7]"
   ]
  },
  {
   "cell_type": "code",
   "execution_count": 7,
   "metadata": {},
   "outputs": [
    {
     "name": "stdout",
     "output_type": "stream",
     "text": [
      "            id  CustomerId   Surname  CreditScore Geography  Gender   Age  \\\n",
      "89788    89788    15794479  Li Fonti          635   Germany  Female  32.0   \n",
      "122294  122294    15791053  Lucciano          635     Spain    Male  45.0   \n",
      "112272  112272    15762532      Chiu          675    France    Male  38.0   \n",
      "106909  106909    15803654    Angelo          614   Germany  Female  33.0   \n",
      "14164    14164    15791053  Lucciano          709    France    Male  45.0   \n",
      "140132  140132    15627185  Yegorova          569   Germany    Male  43.0   \n",
      "101694  101694    15791053  Lucciano          495   Germany    Male  49.0   \n",
      "90068    90068    15791053  Lucciano          706     Spain  Female  52.0   \n",
      "147640  147640    15791053  Lucciano          709   Germany    Male  45.0   \n",
      "118103  118103    15658057  Padovesi          696   Germany    Male  44.0   \n",
      "152176  152176    15581252   Palerma          738   Germany  Female  38.0   \n",
      "95713    95713    15734610       Lai          537   Germany  Female  59.0   \n",
      "112363  112363    15679693    Walker          597    France    Male  31.0   \n",
      "100657  100657    15786463     Hsing          669    France  Female  42.0   \n",
      "66185    66185    15782418     Hsueh          589   Germany    Male  59.0   \n",
      "13865    13865    15703059     Scott          526   Germany  Female  34.0   \n",
      "128088  128088    15602851    Ozioma          609    France  Female  40.0   \n",
      "116384  116384    15680685   Vincent          721    France  Female  28.0   \n",
      "109136  109136    15633870    Ozioma          629    France    Male  40.0   \n",
      "65612    65612    15602851    Ozioma          629    France  Female  40.0   \n",
      "\n",
      "        Tenure    Balance  NumOfProducts  HasCrCard  IsActiveMember  \\\n",
      "89788        9  128760.32              1        1.0             1.0   \n",
      "122294       5  122917.71              1        1.0             0.0   \n",
      "112272       9  125920.98              1        0.0             1.0   \n",
      "106909       2  137891.35              1        1.0             1.0   \n",
      "14164        4  122917.71              1        1.0             1.0   \n",
      "140132       4  148962.76              1        1.0             0.0   \n",
      "101694       5  122917.71              2        1.0             1.0   \n",
      "90068        4  122917.71              1        1.0             1.0   \n",
      "147640       2  122917.71              1        0.0             1.0   \n",
      "118103       4  122917.69              2        1.0             0.0   \n",
      "152176       9  138053.67              2        0.0             0.0   \n",
      "95713        0  120549.29              1        1.0             0.0   \n",
      "112363       5       0.00              2        1.0             0.0   \n",
      "100657       9       0.00              1        1.0             0.0   \n",
      "66185        8  121669.23              2        1.0             1.0   \n",
      "13865        6  125552.96              1        0.0             1.0   \n",
      "128088       9       0.00              2        1.0             0.0   \n",
      "116384       6       0.00              2        1.0             0.0   \n",
      "109136      10       0.00              1        1.0             0.0   \n",
      "65612        9       0.00              2        0.0             1.0   \n",
      "\n",
      "        EstimatedSalary  Exited  \n",
      "89788             11.58       0  \n",
      "122294            11.58       1  \n",
      "112272            11.58       0  \n",
      "106909            11.58       0  \n",
      "14164             11.58       0  \n",
      "140132            11.58       1  \n",
      "101694            11.58       0  \n",
      "90068             11.58       0  \n",
      "147640            11.58       0  \n",
      "118103            11.58       0  \n",
      "152176            11.80       0  \n",
      "95713             90.07       1  \n",
      "112363            90.07       0  \n",
      "100657            91.75       0  \n",
      "66185             91.75       0  \n",
      "13865             96.27       0  \n",
      "128088           106.67       0  \n",
      "116384           106.67       0  \n",
      "109136           106.67       0  \n",
      "65612            106.67       0  \n"
     ]
    }
   ],
   "source": [
    "# Sort by EstimatedSalary\n",
    "df_sorted = train_data.sort_values(by='EstimatedSalary', ascending=True) \n",
    " # Display the top 10 rows \n",
    "print(df_sorted.head(20))"
   ]
  },
  {
   "cell_type": "code",
   "execution_count": 8,
   "metadata": {
    "execution": {
     "iopub.execute_input": "2024-11-28T21:24:56.848064Z",
     "iopub.status.busy": "2024-11-28T21:24:56.847729Z",
     "iopub.status.idle": "2024-11-28T21:24:56.853613Z",
     "shell.execute_reply": "2024-11-28T21:24:56.852542Z",
     "shell.execute_reply.started": "2024-11-28T21:24:56.848038Z"
    },
    "trusted": true
   },
   "outputs": [
    {
     "name": "stdout",
     "output_type": "stream",
     "text": [
      "Shape of train_data: (165034, 14)\n",
      "Shape of test_data: (110023, 13)\n"
     ]
    }
   ],
   "source": [
    "#show number of rows and columns\n",
    "print(\"Shape of train_data:\", train_data.shape)\n",
    "print(\"Shape of test_data:\", test_data.shape)\n"
   ]
  },
  {
   "cell_type": "code",
   "execution_count": 9,
   "metadata": {
    "execution": {
     "iopub.execute_input": "2024-11-28T21:24:56.856230Z",
     "iopub.status.busy": "2024-11-28T21:24:56.855926Z",
     "iopub.status.idle": "2024-11-28T21:24:56.917917Z",
     "shell.execute_reply": "2024-11-28T21:24:56.917075Z",
     "shell.execute_reply.started": "2024-11-28T21:24:56.856207Z"
    },
    "trusted": true
   },
   "outputs": [
    {
     "name": "stdout",
     "output_type": "stream",
     "text": [
      "<class 'pandas.core.frame.DataFrame'>\n",
      "RangeIndex: 165034 entries, 0 to 165033\n",
      "Data columns (total 14 columns):\n",
      " #   Column           Non-Null Count   Dtype  \n",
      "---  ------           --------------   -----  \n",
      " 0   id               165034 non-null  int64  \n",
      " 1   CustomerId       165034 non-null  int64  \n",
      " 2   Surname          165034 non-null  object \n",
      " 3   CreditScore      165034 non-null  int64  \n",
      " 4   Geography        165034 non-null  object \n",
      " 5   Gender           165034 non-null  object \n",
      " 6   Age              165034 non-null  float64\n",
      " 7   Tenure           165034 non-null  int64  \n",
      " 8   Balance          165034 non-null  float64\n",
      " 9   NumOfProducts    165034 non-null  int64  \n",
      " 10  HasCrCard        165034 non-null  float64\n",
      " 11  IsActiveMember   165034 non-null  float64\n",
      " 12  EstimatedSalary  165034 non-null  float64\n",
      " 13  Exited           165034 non-null  int64  \n",
      "dtypes: float64(5), int64(6), object(3)\n",
      "memory usage: 17.6+ MB\n"
     ]
    }
   ],
   "source": [
    "#show datatype and count non null values\n",
    "train_data.info()"
   ]
  },
  {
   "cell_type": "code",
   "execution_count": 10,
   "metadata": {
    "execution": {
     "iopub.execute_input": "2024-11-28T21:24:56.919379Z",
     "iopub.status.busy": "2024-11-28T21:24:56.919067Z",
     "iopub.status.idle": "2024-11-28T21:24:57.004598Z",
     "shell.execute_reply": "2024-11-28T21:24:57.003588Z",
     "shell.execute_reply.started": "2024-11-28T21:24:56.919355Z"
    },
    "trusted": true
   },
   "outputs": [
    {
     "data": {
      "text/plain": [
       "0"
      ]
     },
     "execution_count": 10,
     "metadata": {},
     "output_type": "execute_result"
    }
   ],
   "source": [
    "#show if there is full duplicates \n",
    "train_data.duplicated().sum()"
   ]
  },
  {
   "cell_type": "markdown",
   "metadata": {},
   "source": [
    "there aren't duplicate values"
   ]
  },
  {
   "cell_type": "markdown",
   "metadata": {},
   "source": [
    "**i will drop \" id\" ,\"CustomerId\" ,\"Surname\" columns because they are useless**"
   ]
  },
  {
   "cell_type": "code",
   "execution_count": 11,
   "metadata": {
    "execution": {
     "iopub.execute_input": "2024-11-28T21:24:57.005982Z",
     "iopub.status.busy": "2024-11-28T21:24:57.005714Z",
     "iopub.status.idle": "2024-11-28T21:24:57.023092Z",
     "shell.execute_reply": "2024-11-28T21:24:57.021883Z",
     "shell.execute_reply.started": "2024-11-28T21:24:57.005961Z"
    },
    "trusted": true
   },
   "outputs": [],
   "source": [
    "train_data.drop(columns=['id', 'CustomerId','Surname'], inplace=True)\n",
    "test_data.drop(columns=['id', 'CustomerId','Surname'], inplace=True)"
   ]
  },
  {
   "cell_type": "code",
   "execution_count": 12,
   "metadata": {
    "execution": {
     "iopub.execute_input": "2024-11-28T21:24:57.024483Z",
     "iopub.status.busy": "2024-11-28T21:24:57.024168Z",
     "iopub.status.idle": "2024-11-28T21:24:57.051505Z",
     "shell.execute_reply": "2024-11-28T21:24:57.050259Z",
     "shell.execute_reply.started": "2024-11-28T21:24:57.024458Z"
    },
    "trusted": true
   },
   "outputs": [
    {
     "data": {
      "text/plain": [
       "CreditScore        0\n",
       "Geography          0\n",
       "Gender             0\n",
       "Age                0\n",
       "Tenure             0\n",
       "Balance            0\n",
       "NumOfProducts      0\n",
       "HasCrCard          0\n",
       "IsActiveMember     0\n",
       "EstimatedSalary    0\n",
       "Exited             0\n",
       "dtype: int64"
      ]
     },
     "execution_count": 12,
     "metadata": {},
     "output_type": "execute_result"
    }
   ],
   "source": [
    "train_data.isna().sum()"
   ]
  },
  {
   "cell_type": "code",
   "execution_count": 13,
   "metadata": {
    "execution": {
     "iopub.execute_input": "2024-11-28T21:24:57.053103Z",
     "iopub.status.busy": "2024-11-28T21:24:57.052762Z",
     "iopub.status.idle": "2024-11-28T21:24:57.075995Z",
     "shell.execute_reply": "2024-11-28T21:24:57.074915Z",
     "shell.execute_reply.started": "2024-11-28T21:24:57.053078Z"
    },
    "trusted": true
   },
   "outputs": [
    {
     "data": {
      "text/plain": [
       "CreditScore        0\n",
       "Geography          0\n",
       "Gender             0\n",
       "Age                0\n",
       "Tenure             0\n",
       "Balance            0\n",
       "NumOfProducts      0\n",
       "HasCrCard          0\n",
       "IsActiveMember     0\n",
       "EstimatedSalary    0\n",
       "dtype: int64"
      ]
     },
     "execution_count": 13,
     "metadata": {},
     "output_type": "execute_result"
    }
   ],
   "source": [
    "test_data.isna().sum()"
   ]
  },
  {
   "cell_type": "markdown",
   "metadata": {},
   "source": [
    "there aren't missing values"
   ]
  },
  {
   "cell_type": "code",
   "execution_count": 14,
   "metadata": {
    "execution": {
     "iopub.execute_input": "2024-11-28T21:24:57.077869Z",
     "iopub.status.busy": "2024-11-28T21:24:57.077413Z",
     "iopub.status.idle": "2024-11-28T21:24:57.169049Z",
     "shell.execute_reply": "2024-11-28T21:24:57.167982Z",
     "shell.execute_reply.started": "2024-11-28T21:24:57.077833Z"
    },
    "trusted": true
   },
   "outputs": [
    {
     "data": {
      "text/html": [
       "<div>\n",
       "<style scoped>\n",
       "    .dataframe tbody tr th:only-of-type {\n",
       "        vertical-align: middle;\n",
       "    }\n",
       "\n",
       "    .dataframe tbody tr th {\n",
       "        vertical-align: top;\n",
       "    }\n",
       "\n",
       "    .dataframe thead th {\n",
       "        text-align: right;\n",
       "    }\n",
       "</style>\n",
       "<table border=\"1\" class=\"dataframe\">\n",
       "  <thead>\n",
       "    <tr style=\"text-align: right;\">\n",
       "      <th></th>\n",
       "      <th>CreditScore</th>\n",
       "      <th>Age</th>\n",
       "      <th>Tenure</th>\n",
       "      <th>Balance</th>\n",
       "      <th>NumOfProducts</th>\n",
       "      <th>HasCrCard</th>\n",
       "      <th>IsActiveMember</th>\n",
       "      <th>EstimatedSalary</th>\n",
       "      <th>Exited</th>\n",
       "    </tr>\n",
       "  </thead>\n",
       "  <tbody>\n",
       "    <tr>\n",
       "      <th>count</th>\n",
       "      <td>165034.000000</td>\n",
       "      <td>165034.000000</td>\n",
       "      <td>165034.000000</td>\n",
       "      <td>165034.000000</td>\n",
       "      <td>165034.000000</td>\n",
       "      <td>165034.000000</td>\n",
       "      <td>165034.000000</td>\n",
       "      <td>165034.000000</td>\n",
       "      <td>165034.000000</td>\n",
       "    </tr>\n",
       "    <tr>\n",
       "      <th>mean</th>\n",
       "      <td>656.454373</td>\n",
       "      <td>38.125888</td>\n",
       "      <td>5.020353</td>\n",
       "      <td>55478.086689</td>\n",
       "      <td>1.554455</td>\n",
       "      <td>0.753954</td>\n",
       "      <td>0.497770</td>\n",
       "      <td>112574.822734</td>\n",
       "      <td>0.211599</td>\n",
       "    </tr>\n",
       "    <tr>\n",
       "      <th>std</th>\n",
       "      <td>80.103340</td>\n",
       "      <td>8.867205</td>\n",
       "      <td>2.806159</td>\n",
       "      <td>62817.663278</td>\n",
       "      <td>0.547154</td>\n",
       "      <td>0.430707</td>\n",
       "      <td>0.499997</td>\n",
       "      <td>50292.865585</td>\n",
       "      <td>0.408443</td>\n",
       "    </tr>\n",
       "    <tr>\n",
       "      <th>min</th>\n",
       "      <td>350.000000</td>\n",
       "      <td>18.000000</td>\n",
       "      <td>0.000000</td>\n",
       "      <td>0.000000</td>\n",
       "      <td>1.000000</td>\n",
       "      <td>0.000000</td>\n",
       "      <td>0.000000</td>\n",
       "      <td>11.580000</td>\n",
       "      <td>0.000000</td>\n",
       "    </tr>\n",
       "    <tr>\n",
       "      <th>25%</th>\n",
       "      <td>597.000000</td>\n",
       "      <td>32.000000</td>\n",
       "      <td>3.000000</td>\n",
       "      <td>0.000000</td>\n",
       "      <td>1.000000</td>\n",
       "      <td>1.000000</td>\n",
       "      <td>0.000000</td>\n",
       "      <td>74637.570000</td>\n",
       "      <td>0.000000</td>\n",
       "    </tr>\n",
       "    <tr>\n",
       "      <th>50%</th>\n",
       "      <td>659.000000</td>\n",
       "      <td>37.000000</td>\n",
       "      <td>5.000000</td>\n",
       "      <td>0.000000</td>\n",
       "      <td>2.000000</td>\n",
       "      <td>1.000000</td>\n",
       "      <td>0.000000</td>\n",
       "      <td>117948.000000</td>\n",
       "      <td>0.000000</td>\n",
       "    </tr>\n",
       "    <tr>\n",
       "      <th>75%</th>\n",
       "      <td>710.000000</td>\n",
       "      <td>42.000000</td>\n",
       "      <td>7.000000</td>\n",
       "      <td>119939.517500</td>\n",
       "      <td>2.000000</td>\n",
       "      <td>1.000000</td>\n",
       "      <td>1.000000</td>\n",
       "      <td>155152.467500</td>\n",
       "      <td>0.000000</td>\n",
       "    </tr>\n",
       "    <tr>\n",
       "      <th>max</th>\n",
       "      <td>850.000000</td>\n",
       "      <td>92.000000</td>\n",
       "      <td>10.000000</td>\n",
       "      <td>250898.090000</td>\n",
       "      <td>4.000000</td>\n",
       "      <td>1.000000</td>\n",
       "      <td>1.000000</td>\n",
       "      <td>199992.480000</td>\n",
       "      <td>1.000000</td>\n",
       "    </tr>\n",
       "  </tbody>\n",
       "</table>\n",
       "</div>"
      ],
      "text/plain": [
       "         CreditScore            Age         Tenure        Balance  \\\n",
       "count  165034.000000  165034.000000  165034.000000  165034.000000   \n",
       "mean      656.454373      38.125888       5.020353   55478.086689   \n",
       "std        80.103340       8.867205       2.806159   62817.663278   \n",
       "min       350.000000      18.000000       0.000000       0.000000   \n",
       "25%       597.000000      32.000000       3.000000       0.000000   \n",
       "50%       659.000000      37.000000       5.000000       0.000000   \n",
       "75%       710.000000      42.000000       7.000000  119939.517500   \n",
       "max       850.000000      92.000000      10.000000  250898.090000   \n",
       "\n",
       "       NumOfProducts      HasCrCard  IsActiveMember  EstimatedSalary  \\\n",
       "count  165034.000000  165034.000000   165034.000000    165034.000000   \n",
       "mean        1.554455       0.753954        0.497770    112574.822734   \n",
       "std         0.547154       0.430707        0.499997     50292.865585   \n",
       "min         1.000000       0.000000        0.000000        11.580000   \n",
       "25%         1.000000       1.000000        0.000000     74637.570000   \n",
       "50%         2.000000       1.000000        0.000000    117948.000000   \n",
       "75%         2.000000       1.000000        1.000000    155152.467500   \n",
       "max         4.000000       1.000000        1.000000    199992.480000   \n",
       "\n",
       "              Exited  \n",
       "count  165034.000000  \n",
       "mean        0.211599  \n",
       "std         0.408443  \n",
       "min         0.000000  \n",
       "25%         0.000000  \n",
       "50%         0.000000  \n",
       "75%         0.000000  \n",
       "max         1.000000  "
      ]
     },
     "execution_count": 14,
     "metadata": {},
     "output_type": "execute_result"
    }
   ],
   "source": [
    "# Generate descriptive statistics for quantitative columns in the DataFrame\n",
    "train_data.describe()"
   ]
  },
  {
   "cell_type": "code",
   "execution_count": 37,
   "metadata": {},
   "outputs": [
    {
     "data": {
      "text/html": [
       "<div>\n",
       "<style scoped>\n",
       "    .dataframe tbody tr th:only-of-type {\n",
       "        vertical-align: middle;\n",
       "    }\n",
       "\n",
       "    .dataframe tbody tr th {\n",
       "        vertical-align: top;\n",
       "    }\n",
       "\n",
       "    .dataframe thead th {\n",
       "        text-align: right;\n",
       "    }\n",
       "</style>\n",
       "<table border=\"1\" class=\"dataframe\">\n",
       "  <thead>\n",
       "    <tr style=\"text-align: right;\">\n",
       "      <th></th>\n",
       "      <th>CreditScore</th>\n",
       "      <th>Geography</th>\n",
       "      <th>Gender</th>\n",
       "      <th>Age</th>\n",
       "      <th>Tenure</th>\n",
       "      <th>Balance</th>\n",
       "      <th>NumOfProducts</th>\n",
       "      <th>HasCrCard</th>\n",
       "      <th>IsActiveMember</th>\n",
       "      <th>EstimatedSalary</th>\n",
       "      <th>Exited</th>\n",
       "    </tr>\n",
       "  </thead>\n",
       "  <tbody>\n",
       "    <tr>\n",
       "      <th>0</th>\n",
       "      <td>668.0</td>\n",
       "      <td>France</td>\n",
       "      <td>Male</td>\n",
       "      <td>33.0</td>\n",
       "      <td>3</td>\n",
       "      <td>0.00</td>\n",
       "      <td>2</td>\n",
       "      <td>1.0</td>\n",
       "      <td>0.0</td>\n",
       "      <td>181449.97</td>\n",
       "      <td>0</td>\n",
       "    </tr>\n",
       "    <tr>\n",
       "      <th>1</th>\n",
       "      <td>627.0</td>\n",
       "      <td>France</td>\n",
       "      <td>Male</td>\n",
       "      <td>33.0</td>\n",
       "      <td>1</td>\n",
       "      <td>0.00</td>\n",
       "      <td>2</td>\n",
       "      <td>1.0</td>\n",
       "      <td>1.0</td>\n",
       "      <td>49503.50</td>\n",
       "      <td>0</td>\n",
       "    </tr>\n",
       "    <tr>\n",
       "      <th>2</th>\n",
       "      <td>678.0</td>\n",
       "      <td>France</td>\n",
       "      <td>Male</td>\n",
       "      <td>40.0</td>\n",
       "      <td>10</td>\n",
       "      <td>0.00</td>\n",
       "      <td>2</td>\n",
       "      <td>1.0</td>\n",
       "      <td>0.0</td>\n",
       "      <td>184866.69</td>\n",
       "      <td>0</td>\n",
       "    </tr>\n",
       "    <tr>\n",
       "      <th>3</th>\n",
       "      <td>581.0</td>\n",
       "      <td>France</td>\n",
       "      <td>Male</td>\n",
       "      <td>34.0</td>\n",
       "      <td>2</td>\n",
       "      <td>148882.54</td>\n",
       "      <td>1</td>\n",
       "      <td>1.0</td>\n",
       "      <td>1.0</td>\n",
       "      <td>84560.88</td>\n",
       "      <td>0</td>\n",
       "    </tr>\n",
       "    <tr>\n",
       "      <th>4</th>\n",
       "      <td>716.0</td>\n",
       "      <td>Spain</td>\n",
       "      <td>Male</td>\n",
       "      <td>33.0</td>\n",
       "      <td>5</td>\n",
       "      <td>0.00</td>\n",
       "      <td>2</td>\n",
       "      <td>1.0</td>\n",
       "      <td>1.0</td>\n",
       "      <td>15068.83</td>\n",
       "      <td>0</td>\n",
       "    </tr>\n",
       "    <tr>\n",
       "      <th>5</th>\n",
       "      <td>588.0</td>\n",
       "      <td>Germany</td>\n",
       "      <td>Male</td>\n",
       "      <td>36.0</td>\n",
       "      <td>4</td>\n",
       "      <td>131778.58</td>\n",
       "      <td>1</td>\n",
       "      <td>1.0</td>\n",
       "      <td>0.0</td>\n",
       "      <td>136024.31</td>\n",
       "      <td>1</td>\n",
       "    </tr>\n",
       "    <tr>\n",
       "      <th>6</th>\n",
       "      <td>593.0</td>\n",
       "      <td>France</td>\n",
       "      <td>Female</td>\n",
       "      <td>30.0</td>\n",
       "      <td>8</td>\n",
       "      <td>144772.69</td>\n",
       "      <td>1</td>\n",
       "      <td>1.0</td>\n",
       "      <td>0.0</td>\n",
       "      <td>29792.11</td>\n",
       "      <td>0</td>\n",
       "    </tr>\n",
       "    <tr>\n",
       "      <th>7</th>\n",
       "      <td>678.0</td>\n",
       "      <td>Spain</td>\n",
       "      <td>Male</td>\n",
       "      <td>37.0</td>\n",
       "      <td>1</td>\n",
       "      <td>138476.41</td>\n",
       "      <td>1</td>\n",
       "      <td>1.0</td>\n",
       "      <td>0.0</td>\n",
       "      <td>106851.60</td>\n",
       "      <td>0</td>\n",
       "    </tr>\n",
       "    <tr>\n",
       "      <th>8</th>\n",
       "      <td>676.0</td>\n",
       "      <td>France</td>\n",
       "      <td>Male</td>\n",
       "      <td>43.0</td>\n",
       "      <td>4</td>\n",
       "      <td>0.00</td>\n",
       "      <td>2</td>\n",
       "      <td>1.0</td>\n",
       "      <td>0.0</td>\n",
       "      <td>142917.13</td>\n",
       "      <td>0</td>\n",
       "    </tr>\n",
       "    <tr>\n",
       "      <th>9</th>\n",
       "      <td>583.0</td>\n",
       "      <td>Germany</td>\n",
       "      <td>Male</td>\n",
       "      <td>40.0</td>\n",
       "      <td>4</td>\n",
       "      <td>81274.33</td>\n",
       "      <td>1</td>\n",
       "      <td>1.0</td>\n",
       "      <td>1.0</td>\n",
       "      <td>170843.07</td>\n",
       "      <td>0</td>\n",
       "    </tr>\n",
       "    <tr>\n",
       "      <th>10</th>\n",
       "      <td>599.0</td>\n",
       "      <td>Germany</td>\n",
       "      <td>Female</td>\n",
       "      <td>27.0</td>\n",
       "      <td>6</td>\n",
       "      <td>161801.47</td>\n",
       "      <td>2</td>\n",
       "      <td>1.0</td>\n",
       "      <td>0.0</td>\n",
       "      <td>109184.24</td>\n",
       "      <td>0</td>\n",
       "    </tr>\n",
       "    <tr>\n",
       "      <th>11</th>\n",
       "      <td>687.0</td>\n",
       "      <td>Germany</td>\n",
       "      <td>Male</td>\n",
       "      <td>40.0</td>\n",
       "      <td>3</td>\n",
       "      <td>90432.92</td>\n",
       "      <td>1</td>\n",
       "      <td>1.0</td>\n",
       "      <td>0.0</td>\n",
       "      <td>1676.92</td>\n",
       "      <td>0</td>\n",
       "    </tr>\n",
       "    <tr>\n",
       "      <th>12</th>\n",
       "      <td>759.0</td>\n",
       "      <td>Spain</td>\n",
       "      <td>Male</td>\n",
       "      <td>57.0</td>\n",
       "      <td>9</td>\n",
       "      <td>0.00</td>\n",
       "      <td>1</td>\n",
       "      <td>1.0</td>\n",
       "      <td>1.0</td>\n",
       "      <td>93081.87</td>\n",
       "      <td>0</td>\n",
       "    </tr>\n",
       "    <tr>\n",
       "      <th>13</th>\n",
       "      <td>681.0</td>\n",
       "      <td>France</td>\n",
       "      <td>Male</td>\n",
       "      <td>47.0</td>\n",
       "      <td>5</td>\n",
       "      <td>0.00</td>\n",
       "      <td>1</td>\n",
       "      <td>1.0</td>\n",
       "      <td>1.0</td>\n",
       "      <td>72945.68</td>\n",
       "      <td>0</td>\n",
       "    </tr>\n",
       "    <tr>\n",
       "      <th>14</th>\n",
       "      <td>703.0</td>\n",
       "      <td>France</td>\n",
       "      <td>Female</td>\n",
       "      <td>33.0</td>\n",
       "      <td>7</td>\n",
       "      <td>190566.65</td>\n",
       "      <td>1</td>\n",
       "      <td>1.0</td>\n",
       "      <td>1.0</td>\n",
       "      <td>79997.14</td>\n",
       "      <td>0</td>\n",
       "    </tr>\n",
       "  </tbody>\n",
       "</table>\n",
       "</div>"
      ],
      "text/plain": [
       "    CreditScore Geography  Gender   Age  Tenure    Balance  NumOfProducts  \\\n",
       "0         668.0    France    Male  33.0       3       0.00              2   \n",
       "1         627.0    France    Male  33.0       1       0.00              2   \n",
       "2         678.0    France    Male  40.0      10       0.00              2   \n",
       "3         581.0    France    Male  34.0       2  148882.54              1   \n",
       "4         716.0     Spain    Male  33.0       5       0.00              2   \n",
       "5         588.0   Germany    Male  36.0       4  131778.58              1   \n",
       "6         593.0    France  Female  30.0       8  144772.69              1   \n",
       "7         678.0     Spain    Male  37.0       1  138476.41              1   \n",
       "8         676.0    France    Male  43.0       4       0.00              2   \n",
       "9         583.0   Germany    Male  40.0       4   81274.33              1   \n",
       "10        599.0   Germany  Female  27.0       6  161801.47              2   \n",
       "11        687.0   Germany    Male  40.0       3   90432.92              1   \n",
       "12        759.0     Spain    Male  57.0       9       0.00              1   \n",
       "13        681.0    France    Male  47.0       5       0.00              1   \n",
       "14        703.0    France  Female  33.0       7  190566.65              1   \n",
       "\n",
       "    HasCrCard  IsActiveMember  EstimatedSalary  Exited  \n",
       "0         1.0             0.0        181449.97       0  \n",
       "1         1.0             1.0         49503.50       0  \n",
       "2         1.0             0.0        184866.69       0  \n",
       "3         1.0             1.0         84560.88       0  \n",
       "4         1.0             1.0         15068.83       0  \n",
       "5         1.0             0.0        136024.31       1  \n",
       "6         1.0             0.0         29792.11       0  \n",
       "7         1.0             0.0        106851.60       0  \n",
       "8         1.0             0.0        142917.13       0  \n",
       "9         1.0             1.0        170843.07       0  \n",
       "10        1.0             0.0        109184.24       0  \n",
       "11        1.0             0.0          1676.92       0  \n",
       "12        1.0             1.0         93081.87       0  \n",
       "13        1.0             1.0         72945.68       0  \n",
       "14        1.0             1.0         79997.14       0  "
      ]
     },
     "execution_count": 37,
     "metadata": {},
     "output_type": "execute_result"
    }
   ],
   "source": [
    "train_data.head(15)"
   ]
  },
  {
   "cell_type": "markdown",
   "metadata": {},
   "source": [
    "<div style=\"\n",
    "    padding: 15px; \n",
    "    color: #377eb8; /* Pastel blue */\n",
    "    font-weight: bold; \n",
    "    font-size: 20px; \n",
    "    font-family: 'Arial', sans-serif; /* Clean, simple font for contrast */\n",
    "    text-align: left; /* Left-aligned */\n",
    "    background-color: #f7f4f9; /* Soft pastel lavender background */\n",
    "    margin-top: 10px; /* Space between title and subtitle */\n",
    "    box-shadow: 0px 4px 8px rgba(0, 0, 0, 0.2); /* Adding a soft shadow effect */\n",
    "\">\n",
    "    EDA:\n",
    "</div>\n"
   ]
  },
  {
   "cell_type": "code",
   "execution_count": 16,
   "metadata": {
    "execution": {
     "iopub.execute_input": "2024-11-28T21:24:57.173924Z",
     "iopub.status.busy": "2024-11-28T21:24:57.173581Z",
     "iopub.status.idle": "2024-11-28T21:24:57.595488Z",
     "shell.execute_reply": "2024-11-28T21:24:57.594521Z",
     "shell.execute_reply.started": "2024-11-28T21:24:57.173898Z"
    },
    "trusted": true
   },
   "outputs": [
    {
     "data": {
      "image/png": "[encoded data removed]",
      "text/plain": [
       "<Figure size 1080x432 with 2 Axes>"
      ]
     },
     "metadata": {
      "needs_background": "light"
     },
     "output_type": "display_data"
    }
   ],
   "source": [
    "# Create a subplot with 1 row and 2 columns\n",
    "fig, axes = plt.subplots(1, 2, figsize=(15, 6))\n",
    "\n",
    "# Pie chart for 'Exited' column\n",
    "status_counts = train_data['Exited'].value_counts()\n",
    "axes[0].pie(status_counts, labels=status_counts.index, autopct='%1.1f%%', startangle=90, colors=sns.color_palette('Pastel1'))\n",
    "axes[0].set_title('Distribution of Exited')\n",
    "\n",
    "# Count plot for 'Exited' column\n",
    "sns.countplot(x='Exited', data=train_data, palette='Pastel1', ax=axes[1])\n",
    "axes[1].set_title('Count Plot of Exited')\n",
    "\n",
    "plt.tight_layout()\n",
    "plt.show()"
   ]
  },
  {
   "cell_type": "markdown",
   "metadata": {},
   "source": [
    "only 21.2% is Exited ,it looks that we have an imbalanced data "
   ]
  },
  {
   "cell_type": "code",
   "execution_count": 17,
   "metadata": {
    "execution": {
     "iopub.execute_input": "2024-11-28T21:24:57.597626Z",
     "iopub.status.busy": "2024-11-28T21:24:57.597210Z",
     "iopub.status.idle": "2024-11-28T21:24:58.974573Z",
     "shell.execute_reply": "2024-11-28T21:24:58.973510Z",
     "shell.execute_reply.started": "2024-11-28T21:24:57.597590Z"
    },
    "trusted": true
   },
   "outputs": [
    {
     "data": {
      "image/png": "[encoded data removed]",
      "text/plain": [
       "<Figure size 864x576 with 6 Axes>"
      ]
     },
     "metadata": {
      "needs_background": "light"
     },
     "output_type": "display_data"
    }
   ],
   "source": [
    "# Histogram of numerical variables\n",
    "numerical_vars = ['CreditScore', 'Age', 'Tenure', 'Balance', 'NumOfProducts', 'EstimatedSalary']\n",
    "plt.figure(figsize=(12, 8))\n",
    "for i, var in enumerate(numerical_vars, 1):\n",
    "    plt.subplot(2, 3, i)\n",
    "    plt.hist(train_data[var], bins=20, color='skyblue', edgecolor='black')\n",
    "    plt.title(f'Distribution of {var}')\n",
    "    plt.xlabel(var)\n",
    "    plt.ylabel('Frequency')\n",
    "plt.tight_layout()\n",
    "plt.show()"
   ]
  },
  {
   "cell_type": "code",
   "execution_count": 18,
   "metadata": {
    "execution": {
     "iopub.execute_input": "2024-11-28T21:24:58.976525Z",
     "iopub.status.busy": "2024-11-28T21:24:58.976097Z",
     "iopub.status.idle": "2024-11-28T21:24:59.571535Z",
     "shell.execute_reply": "2024-11-28T21:24:59.570429Z",
     "shell.execute_reply.started": "2024-11-28T21:24:58.976490Z"
    },
    "trusted": true
   },
   "outputs": [
    {
     "data": {
      "image/png": "[encoded data removed]",
      "text/plain": [
       "<Figure size 1080x720 with 4 Axes>"
      ]
     },
     "metadata": {},
     "output_type": "display_data"
    }
   ],
   "source": [
    "# pie chart for categorical variables\n",
    "categorical_vars = ['Geography', 'Gender', 'HasCrCard', 'IsActiveMember']\n",
    "plt.figure(figsize=(15, 10))\n",
    "for i, var in enumerate(categorical_vars, 1):\n",
    "    plt.subplot(2, 2, i)\n",
    "    counts = train_data[var].value_counts()\n",
    "    plt.pie(counts, labels=counts.index, autopct='%1.1f%%', startangle=140, colors=sns.color_palette('Pastel1'))\n",
    "    plt.title(f'{var} Pie Chart')\n",
    "plt.tight_layout()\n",
    "plt.show()"
   ]
  },
  {
   "cell_type": "markdown",
   "metadata": {},
   "source": [
    "* france is The biggest country where the customer resides .\n",
    "\n",
    "* most customer's gender is male .\n",
    "\n",
    "* most customers have card .\n",
    "\n"
   ]
  },
  {
   "cell_type": "code",
   "execution_count": 19,
   "metadata": {
    "execution": {
     "iopub.execute_input": "2024-11-28T21:24:59.573197Z",
     "iopub.status.busy": "2024-11-28T21:24:59.572872Z",
     "iopub.status.idle": "2024-11-28T21:25:17.444603Z",
     "shell.execute_reply": "2024-11-28T21:25:17.443357Z",
     "shell.execute_reply.started": "2024-11-28T21:24:59.573171Z"
    },
    "trusted": true
   },
   "outputs": [
    {
     "data": {
      "image/png": "[encoded data removed]",
      "text/plain": [
       "<Figure size 576x432 with 1 Axes>"
      ]
     },
     "metadata": {
      "needs_background": "light"
     },
     "output_type": "display_data"
    }
   ],
   "source": [
    "# Bar plot for mean Balance across different Geography categories\n",
    "plt.figure(figsize=(8, 6))\n",
    "sns.barplot(x='Geography', y='Balance', data=train_data, palette='pastel', estimator=lambda x: sum(x) / len(x))\n",
    "plt.title('Mean Balance across Different Geography Categories')\n",
    "plt.xlabel('Geography')\n",
    "plt.ylabel('Mean Balance')\n",
    "plt.show()\n"
   ]
  },
  {
   "cell_type": "markdown",
   "metadata": {},
   "source": [
    "Germany has the highest average balance among the different geography categories, indicating that customers from Germany tend to maintain higher account balances compared to customers from other countries."
   ]
  },
  {
   "cell_type": "code",
   "execution_count": 20,
   "metadata": {
    "execution": {
     "iopub.execute_input": "2024-11-28T21:25:17.446247Z",
     "iopub.status.busy": "2024-11-28T21:25:17.445928Z",
     "iopub.status.idle": "2024-11-28T21:25:18.598710Z",
     "shell.execute_reply": "2024-11-28T21:25:18.597687Z",
     "shell.execute_reply.started": "2024-11-28T21:25:17.446222Z"
    },
    "trusted": true
   },
   "outputs": [
    {
     "data": {
      "image/png": "[encoded data removed]",
      "text/plain": [
       "<Figure size 864x576 with 6 Axes>"
      ]
     },
     "metadata": {
      "needs_background": "light"
     },
     "output_type": "display_data"
    }
   ],
   "source": [
    "# Bar plot for numerical variables with respect to 'Exited'\n",
    "plt.figure(figsize=(12, 8))\n",
    "for i, var in enumerate(numerical_vars, 1):\n",
    "    plt.subplot(2, 3, i)\n",
    "    sns.barplot(x='Exited', y=var, data=train_data, palette='pastel', ci=None)\n",
    "    plt.title(f'{var} vs Exited')\n",
    "    plt.xlabel('Exited')\n",
    "    plt.ylabel(var)\n",
    "plt.tight_layout()\n",
    "plt.show()\n"
   ]
  },
  {
   "cell_type": "code",
   "execution_count": 21,
   "metadata": {
    "execution": {
     "iopub.execute_input": "2024-11-28T21:25:18.600586Z",
     "iopub.status.busy": "2024-11-28T21:25:18.600189Z",
     "iopub.status.idle": "2024-11-28T21:25:23.311608Z",
     "shell.execute_reply": "2024-11-28T21:25:23.310426Z",
     "shell.execute_reply.started": "2024-11-28T21:25:18.600555Z"
    },
    "trusted": true
   },
   "outputs": [
    {
     "data": {
      "image/png": "[encoded data removed]",
      "text/plain": [
       "<Figure size 1080x1440 with 8 Axes>"
      ]
     },
     "metadata": {
      "needs_background": "light"
     },
     "output_type": "display_data"
    }
   ],
   "source": [
    "\n",
    "# Filter out continuous columns\n",
    "continuous_vars = ['CreditScore', 'Age',  'Balance', 'EstimatedSalary']\n",
    "\n",
    "# Define the number of rows and columns for subplots\n",
    "num_rows = len(continuous_vars)\n",
    "num_cols = 2  # Two plots for each column (box plot and KDE plot)\n",
    "\n",
    "# Create subplots\n",
    "fig, axes = plt.subplots(num_rows, num_cols, figsize=(15, 5*num_rows))\n",
    "\n",
    "# Flatten the axes if necessary\n",
    "if num_rows == 1:\n",
    "    axes = axes.reshape(1, -1)\n",
    "\n",
    "# Iterate over each continuous variable and create box plots and KDE plots\n",
    "for i, column in enumerate(continuous_vars):\n",
    "    # Box plot\n",
    "    sns.boxplot(x=train_data[column], ax=axes[i, 0])\n",
    "    axes[i, 0].set_title(f'Boxplot of {column}')\n",
    "    axes[i, 0].set_xlabel(column)\n",
    "\n",
    "    # KDE plot\n",
    "    sns.kdeplot(data=train_data[column], ax=axes[i, 1], color='orange', fill=True)\n",
    "    axes[i, 1].set_title(f'KDE Plot of {column}')\n",
    "    axes[i, 1].set_xlabel(column)\n",
    "\n",
    "# Adjust layout\n",
    "plt.tight_layout()"
   ]
  },
  {
   "cell_type": "markdown",
   "metadata": {},
   "source": [
    "<div style=\"\n",
    "    padding: 15px; \n",
    "    color: #377eb8; /* Pastel blue */\n",
    "    font-weight: bold; \n",
    "    font-size: 20px; \n",
    "    font-family: 'Arial', sans-serif; /* Clean, simple font for contrast */\n",
    "    text-align: left; /* Left-aligned */\n",
    "    background-color: #f7f4f9; /* Soft pastel lavender background */\n",
    "    margin-top: 10px; /* Space between title and subtitle */\n",
    "    box-shadow: 0px 4px 8px rgba(0, 0, 0, 0.2); /* Adding a soft shadow effect */\n",
    "\">\n",
    "    Preprocessing:\n",
    "</div>\n"
   ]
  },
  {
   "cell_type": "code",
   "execution_count": 22,
   "metadata": {
    "execution": {
     "iopub.execute_input": "2024-11-28T21:25:23.883746Z",
     "iopub.status.busy": "2024-11-28T21:25:23.883395Z",
     "iopub.status.idle": "2024-11-28T21:25:23.922494Z",
     "shell.execute_reply": "2024-11-28T21:25:23.921366Z",
     "shell.execute_reply.started": "2024-11-28T21:25:23.883721Z"
    },
    "trusted": true
   },
   "outputs": [
    {
     "name": "stdout",
     "output_type": "stream",
     "text": [
      "Percentage of outliers in CreditScore: 0.15%\n",
      "Percentage of outliers in Age: 3.87%\n",
      "Percentage of outliers in Balance: 0.00%\n",
      "Percentage of outliers in EstimatedSalary: 0.00%\n"
     ]
    }
   ],
   "source": [
    "# Function to calculate percentage of outliers using IQR method\n",
    "def percentage_outliers(data_series):\n",
    "    # Calculate the first and third quartiles\n",
    "    Q1 = np.percentile(data_series, 25)\n",
    "    Q3 = np.percentile(data_series, 75)\n",
    "    \n",
    "    # Calculate the IQR\n",
    "    IQR = Q3 - Q1\n",
    "    \n",
    "    # Define the lower and upper bounds for outliers\n",
    "    lower_bound = Q1 - 1.5 * IQR\n",
    "    upper_bound = Q3 + 1.5 * IQR\n",
    "    \n",
    "    # Count the number of outliers\n",
    "    outliers = data_series[(data_series < lower_bound) | (data_series > upper_bound)]\n",
    "    \n",
    "    # Calculate the percentage of outliers\n",
    "    percentage = (len(outliers) / len(data_series)) * 100\n",
    "    \n",
    "    return percentage\n",
    "\n",
    "# Dictionary to store the percentage of outliers for each continuous variable\n",
    "outliers_percentage = {}\n",
    "\n",
    "# Iterate over each continuous variable and calculate the percentage of outliers\n",
    "for column in continuous_vars:\n",
    "    outliers_percentage[column] = percentage_outliers(train_data[column])\n",
    "\n",
    "# Print the percentage of outliers for each column\n",
    "for column, percentage in outliers_percentage.items():\n",
    "    print(f'Percentage of outliers in {column}: {percentage:.2f}%')\n"
   ]
  },
  {
   "cell_type": "code",
   "execution_count": 23,
   "metadata": {
    "execution": {
     "iopub.execute_input": "2024-11-28T21:25:23.924063Z",
     "iopub.status.busy": "2024-11-28T21:25:23.923747Z",
     "iopub.status.idle": "2024-11-28T21:25:23.970998Z",
     "shell.execute_reply": "2024-11-28T21:25:23.969635Z",
     "shell.execute_reply.started": "2024-11-28T21:25:23.924030Z"
    },
    "trusted": true
   },
   "outputs": [],
   "source": [
    "# Function to replace outliers with lower_bound and upper_bound\n",
    "def replace_outliers(data_series):\n",
    "    # Calculate the first and third quartiles\n",
    "    Q1 = np.percentile(data_series, 25)\n",
    "    Q3 = np.percentile(data_series, 75)\n",
    "    \n",
    "    # Calculate the IQR\n",
    "    IQR = Q3 - Q1\n",
    "    \n",
    "    # Define the lower and upper bounds for outliers\n",
    "    lower_bound = Q1 - 1.5 * IQR\n",
    "    upper_bound = Q3 + 1.5 * IQR\n",
    "    \n",
    "    # Replace outliers with lower_bound and upper_bound\n",
    "    data_series[data_series < lower_bound] = lower_bound\n",
    "    data_series[data_series > upper_bound] = upper_bound\n",
    "    \n",
    "    return data_series\n",
    "\n",
    "# Iterate over each continuous variable and replace outliers\n",
    "for column in continuous_vars:\n",
    "    train_data[column] = replace_outliers(train_data[column])\n"
   ]
  },
  {
   "cell_type": "code",
   "execution_count": 24,
   "metadata": {
    "execution": {
     "iopub.execute_input": "2024-11-28T21:25:23.972879Z",
     "iopub.status.busy": "2024-11-28T21:25:23.972514Z",
     "iopub.status.idle": "2024-11-28T21:25:23.997537Z",
     "shell.execute_reply": "2024-11-28T21:25:23.995873Z",
     "shell.execute_reply.started": "2024-11-28T21:25:23.972851Z"
    },
    "trusted": true
   },
   "outputs": [],
   "source": [
    "# Separate numerical and categorical columns\n",
    "numerical_cols = train_data.select_dtypes(include=['int64', 'float64']).columns.tolist()\n",
    "categorical_cols = train_data.select_dtypes(include=['object']).columns.tolist()\n",
    "\n",
    "# Remove 'Exited' column from numerical_cols if present\n",
    "if 'Exited' in numerical_cols:\n",
    "    numerical_cols.remove('Exited')\n"
   ]
  },
  {
   "cell_type": "code",
   "execution_count": 25,
   "metadata": {
    "execution": {
     "iopub.execute_input": "2024-11-28T21:25:23.999583Z",
     "iopub.status.busy": "2024-11-28T21:25:23.999183Z",
     "iopub.status.idle": "2024-11-28T21:25:24.007610Z",
     "shell.execute_reply": "2024-11-28T21:25:24.006179Z",
     "shell.execute_reply.started": "2024-11-28T21:25:23.999554Z"
    },
    "trusted": true
   },
   "outputs": [],
   "source": [
    "from sklearn.pipeline import Pipeline\n",
    "from sklearn.compose import ColumnTransformer\n",
    "from sklearn.preprocessing import FunctionTransformer, StandardScaler, OrdinalEncoder\n",
    "import numpy as np\n",
    "\n",
    "# Log transformation function\n",
    "log_transform_func = FunctionTransformer(np.log1p)\n",
    "\n",
    "# Define transformations for numerical and categorical columns\n",
    "numerical_transformer = Pipeline(steps=[\n",
    "    ('scaler', StandardScaler())\n",
    "])\n",
    "\n",
    "categorical_transformer = Pipeline(steps=[\n",
    "    ('ordinal_encoder', OrdinalEncoder())\n",
    "])\n",
    "\n",
    "# Define column transformer\n",
    "preprocessor = ColumnTransformer(\n",
    "    transformers=[\n",
    "        ('num', numerical_transformer, numerical_cols),\n",
    "        ('cat', categorical_transformer, categorical_cols),\n",
    "        ('log', log_transform_func, ['Balance', 'EstimatedSalary'])\n",
    "    ])\n",
    "\n",
    "# Define final pipeline\n",
    "pipeline = Pipeline(steps=[('preprocessor', preprocessor)])\n"
   ]
  },
  {
   "cell_type": "markdown",
   "metadata": {},
   "source": [
    "<div style=\"\n",
    "    padding: 15px; \n",
    "    color: #377eb8; /* Pastel blue */\n",
    "    font-weight: bold; \n",
    "    font-size: 20px; \n",
    "    font-family: 'Arial', sans-serif; /* Clean, simple font for contrast */\n",
    "    text-align: left; /* Left-aligned */\n",
    "    background-color: #f7f4f9; /* Soft pastel lavender background */\n",
    "    margin-top: 10px; /* Space between title and subtitle */\n",
    "    box-shadow: 0px 4px 8px rgba(0, 0, 0, 0.2); /* Adding a soft shadow effect */\n",
    "\">\n",
    "    Splitting Data:\n",
    "</div>\n"
   ]
  },
  {
   "cell_type": "code",
   "execution_count": 26,
   "metadata": {
    "execution": {
     "iopub.execute_input": "2024-11-28T21:25:24.009448Z",
     "iopub.status.busy": "2024-11-28T21:25:24.009077Z",
     "iopub.status.idle": "2024-11-28T21:25:24.037661Z",
     "shell.execute_reply": "2024-11-28T21:25:24.036089Z",
     "shell.execute_reply.started": "2024-11-28T21:25:24.009422Z"
    },
    "trusted": true
   },
   "outputs": [],
   "source": [
    "# Split data into features and target variable\n",
    "X = train_data.drop(columns=['Exited'])\n",
    "y = train_data['Exited']\n"
   ]
  },
  {
   "cell_type": "code",
   "execution_count": 27,
   "metadata": {
    "execution": {
     "iopub.execute_input": "2024-11-28T21:25:24.039923Z",
     "iopub.status.busy": "2024-11-28T21:25:24.039453Z",
     "iopub.status.idle": "2024-11-28T21:25:24.088391Z",
     "shell.execute_reply": "2024-11-28T21:25:24.087109Z",
     "shell.execute_reply.started": "2024-11-28T21:25:24.039888Z"
    },
    "trusted": true
   },
   "outputs": [],
   "source": [
    "# Split data into train and test sets\n",
    "X_train, X_test, y_train, y_test = train_test_split(X, y, test_size=0.2, random_state=42)\n"
   ]
  },
  {
   "cell_type": "code",
   "execution_count": 28,
   "metadata": {
    "execution": {
     "iopub.execute_input": "2024-11-28T21:25:24.090020Z",
     "iopub.status.busy": "2024-11-28T21:25:24.089696Z",
     "iopub.status.idle": "2024-11-28T21:25:24.096925Z",
     "shell.execute_reply": "2024-11-28T21:25:24.095759Z",
     "shell.execute_reply.started": "2024-11-28T21:25:24.089996Z"
    },
    "trusted": true
   },
   "outputs": [
    {
     "data": {
      "text/plain": [
       "(132027, 10)"
      ]
     },
     "execution_count": 28,
     "metadata": {},
     "output_type": "execute_result"
    }
   ],
   "source": [
    "X_train.shape"
   ]
  },
  {
   "cell_type": "code",
   "execution_count": 29,
   "metadata": {
    "execution": {
     "iopub.execute_input": "2024-11-28T21:25:24.098724Z",
     "iopub.status.busy": "2024-11-28T21:25:24.098390Z",
     "iopub.status.idle": "2024-11-28T21:25:24.261862Z",
     "shell.execute_reply": "2024-11-28T21:25:24.260843Z",
     "shell.execute_reply.started": "2024-11-28T21:25:24.098674Z"
    },
    "trusted": true
   },
   "outputs": [
    {
     "data": {
      "text/plain": [
       "Pipeline(steps=[('preprocessor',\n",
       "                 ColumnTransformer(transformers=[('num',\n",
       "                                                  Pipeline(steps=[('scaler',\n",
       "                                                                   StandardScaler())]),\n",
       "                                                  ['CreditScore', 'Age',\n",
       "                                                   'Tenure', 'Balance',\n",
       "                                                   'NumOfProducts', 'HasCrCard',\n",
       "                                                   'IsActiveMember',\n",
       "                                                   'EstimatedSalary']),\n",
       "                                                 ('cat',\n",
       "                                                  Pipeline(steps=[('ordinal_encoder',\n",
       "                                                                   OrdinalEncoder())]),\n",
       "                                                  ['Geography', 'Gender']),\n",
       "                                                 ('log',\n",
       "                                                  FunctionTransformer(func=<ufunc 'log1p'>),\n",
       "                                                  ['Balance',\n",
       "                                                   'EstimatedSalary'])]))])"
      ]
     },
     "execution_count": 29,
     "metadata": {},
     "output_type": "execute_result"
    }
   ],
   "source": [
    "# Fit the pipeline on the training data\n",
    "pipeline.fit(X_train, y_train)\n"
   ]
  },
  {
   "cell_type": "code",
   "execution_count": 30,
   "metadata": {
    "execution": {
     "iopub.execute_input": "2024-11-28T21:25:24.263700Z",
     "iopub.status.busy": "2024-11-28T21:25:24.263298Z",
     "iopub.status.idle": "2024-11-28T21:25:24.387016Z",
     "shell.execute_reply": "2024-11-28T21:25:24.386060Z",
     "shell.execute_reply.started": "2024-11-28T21:25:24.263664Z"
    },
    "trusted": true
   },
   "outputs": [],
   "source": [
    "# Apply the pipeline transformations on training and testing data\n",
    "X_train_transformed = pipeline.transform(X_train)\n",
    "X_test_transformed = pipeline.transform(X_test)"
   ]
  },
  {
   "cell_type": "markdown",
   "metadata": {},
   "source": [
    "<div style=\"\n",
    "    padding: 15px; \n",
    "    color: #377eb8; /* Pastel blue */\n",
    "    font-weight: bold; \n",
    "    font-size: 20px; \n",
    "    font-family: 'Arial', sans-serif; /* Clean, simple font for contrast */\n",
    "    text-align: left; /* Left-aligned */\n",
    "    background-color: #f7f4f9; /* Soft pastel lavender background */\n",
    "    margin-top: 10px; /* Space between title and subtitle */\n",
    "    box-shadow: 0px 4px 8px rgba(0, 0, 0, 0.2); /* Adding a soft shadow effect */\n",
    "\">\n",
    "    Modeling:\n",
    "</div>\n"
   ]
  },
  {
   "cell_type": "code",
   "execution_count": 31,
   "metadata": {
    "execution": {
     "iopub.execute_input": "2024-11-28T21:25:24.388570Z",
     "iopub.status.busy": "2024-11-28T21:25:24.388242Z",
     "iopub.status.idle": "2024-11-28T21:25:55.385347Z",
     "shell.execute_reply": "2024-11-28T21:25:55.384367Z",
     "shell.execute_reply.started": "2024-11-28T21:25:24.388546Z"
    },
    "trusted": true
   },
   "outputs": [
    {
     "name": "stdout",
     "output_type": "stream",
     "text": [
      "Model: LogisticRegression, AUC: 0.8142029329606009, F1 Score: 0.4887942211520651\n",
      "Model: RandomForestClassifier, AUC: 0.8753241125998847, F1 Score: 0.6158646740022993\n",
      "Model: XGBClassifier, AUC: 0.8871875394264835, F1 Score: 0.6315617601436851\n"
     ]
    }
   ],
   "source": [
    "from sklearn.metrics import roc_auc_score, f1_score\n",
    "from sklearn.linear_model import LogisticRegression\n",
    "from sklearn.ensemble import RandomForestClassifier\n",
    "from xgboost import XGBClassifier\n",
    "\n",
    "# Define a list of models to evaluate\n",
    "models = [\n",
    "    LogisticRegression(),\n",
    "    RandomForestClassifier(),\n",
    "    XGBClassifier()\n",
    "]\n",
    "\n",
    "# Define lists to store evaluation results\n",
    "auc_scores = []\n",
    "f1_scores = []\n",
    "\n",
    "# Iterate over each model\n",
    "for model in models:\n",
    "    # Fit the model on the training data\n",
    "    model.fit(X_train_transformed, y_train)\n",
    "    \n",
    "    # Predict probabilities on the testing data\n",
    "    y_pred_proba = model.predict_proba(X_test_transformed)[:, 1]\n",
    "    \n",
    "    # Calculate AUC score\n",
    "    auc = roc_auc_score(y_test, y_pred_proba)\n",
    "    auc_scores.append(auc)\n",
    "    \n",
    "    # Predict classes on the testing data\n",
    "    y_pred = model.predict(X_test_transformed)\n",
    "    \n",
    "    # Calculate F1 score\n",
    "    f1 = f1_score(y_test, y_pred)\n",
    "    f1_scores.append(f1)\n",
    "\n",
    "# Print or store the evaluation results\n",
    "for model, auc, f1 in zip(models, auc_scores, f1_scores):\n",
    "    print(f\"Model: {type(model).__name__}, AUC: {auc}, F1 Score: {f1}\")\n"
   ]
  },
  {
   "cell_type": "code",
   "execution_count": 32,
   "metadata": {
    "execution": {
     "iopub.execute_input": "2024-11-28T21:25:55.387179Z",
     "iopub.status.busy": "2024-11-28T21:25:55.386763Z",
     "iopub.status.idle": "2024-11-28T21:28:36.397121Z",
     "shell.execute_reply": "2024-11-28T21:28:36.396191Z",
     "shell.execute_reply.started": "2024-11-28T21:25:55.387145Z"
    },
    "trusted": true
   },
   "outputs": [
    {
     "name": "stdout",
     "output_type": "stream",
     "text": [
      "Best parameters for XGBoost: {'learning_rate': 0.1, 'max_depth': 5, 'n_estimators': 100}\n",
      "Best AUC score for XGBoost: 0.8882452921418637\n"
     ]
    }
   ],
   "source": [
    "from sklearn.model_selection import GridSearchCV\n",
    "from xgboost import XGBClassifier\n",
    "\n",
    "# Define hyperparameters to tune for XGBoost\n",
    "param_grid_xgboost = {\n",
    "    'n_estimators': [100, 200, 300],  # Number of boosting rounds\n",
    "    'max_depth': [3, 5, 7],  # Maximum depth of a tree\n",
    "    'learning_rate': [0.01, 0.1, 0.3]  # Learning rate\n",
    "}\n",
    "\n",
    "# Define grid search for XGBoost\n",
    "grid_search_xgb = GridSearchCV(XGBClassifier(), param_grid_xgboost, cv=5, scoring='roc_auc')\n",
    "\n",
    "# Perform grid search\n",
    "grid_search_xgb.fit(X_train_transformed, y_train)\n",
    "\n",
    "# Get the best hyperparameters and model score\n",
    "best_params_xgb = grid_search_xgb.best_params_\n",
    "best_score_xgb = grid_search_xgb.best_score_\n",
    "\n",
    "print(\"Best parameters for XGBoost:\", best_params_xgb)\n",
    "print(\"Best AUC score for XGBoost:\", best_score_xgb)\n"
   ]
  },
  {
   "cell_type": "code",
   "execution_count": 33,
   "metadata": {
    "execution": {
     "iopub.execute_input": "2024-11-28T21:28:36.402580Z",
     "iopub.status.busy": "2024-11-28T21:28:36.402255Z",
     "iopub.status.idle": "2024-11-28T21:28:37.188730Z",
     "shell.execute_reply": "2024-11-28T21:28:37.187957Z",
     "shell.execute_reply.started": "2024-11-28T21:28:36.402555Z"
    },
    "trusted": true
   },
   "outputs": [
    {
     "name": "stdout",
     "output_type": "stream",
     "text": [
      "Final AUC score for XGBoost: 0.8906568188624134\n",
      "Final F1 Score for XGBoost: 0.6418422341989221\n"
     ]
    }
   ],
   "source": [
    "# Instantiate XGBoost classifier with the best hyperparameters\n",
    "best_xgb_model = XGBClassifier(**best_params_xgb)\n",
    "\n",
    "# Train the final XGBoost model on the entire training dataset\n",
    "best_model=best_xgb_model.fit(X_train_transformed, y_train)\n",
    "\n",
    "# Predict probabilities on the testing data\n",
    "y_pred_proba_xgb = best_xgb_model.predict_proba(X_test_transformed)[:, 1]\n",
    "\n",
    "# Calculate AUC score for the final XGBoost model\n",
    "final_auc_xgb = roc_auc_score(y_test, y_pred_proba_xgb)\n",
    "\n",
    "# Predict classes on the testing data\n",
    "y_pred_xgb = best_xgb_model.predict(X_test_transformed)\n",
    "\n",
    "# Calculate F1 score for the final XGBoost model\n",
    "final_f1_xgb = f1_score(y_test, y_pred_xgb)\n",
    "\n",
    "print(\"Final AUC score for XGBoost:\", final_auc_xgb)\n",
    "print(\"Final F1 Score for XGBoost:\", final_f1_xgb)"
   ]
  },
  {
   "cell_type": "code",
   "execution_count": 34,
   "metadata": {
    "execution": {
     "iopub.execute_input": "2024-11-28T21:28:37.189868Z",
     "iopub.status.busy": "2024-11-28T21:28:37.189588Z",
     "iopub.status.idle": "2024-11-28T21:28:37.466848Z",
     "shell.execute_reply": "2024-11-28T21:28:37.465847Z",
     "shell.execute_reply.started": "2024-11-28T21:28:37.189845Z"
    },
    "trusted": true
   },
   "outputs": [
    {
     "data": {
      "image/png": "[encoded data removed]",
      "text/plain": [
       "<Figure size 576x432 with 1 Axes>"
      ]
     },
     "metadata": {
      "needs_background": "light"
     },
     "output_type": "display_data"
    }
   ],
   "source": [
    "from sklearn.metrics import roc_curve\n",
    "def plot_roc_curve(fpr, tpr, label=None):\n",
    "    plt.plot(fpr, tpr, linewidth=2, label=label)\n",
    "    plt.plot([0, 1], [0, 1], 'k--') # dashed diagonal\n",
    "    plt.axis([0, 1, 0, 1])\n",
    "    plt.xlabel('False Positive Rate (Fall-Out)')\n",
    "    plt.ylabel('True Positive Rate (Recall)')\n",
    "    plt.grid(True)\n",
    "# Calculate the ROC curve\n",
    "fpr, tpr, thresholds = roc_curve(y_test, y_pred_proba)\n",
    "\n",
    "# Plot the ROC curve\n",
    "plt.figure(figsize=(8, 6))\n",
    "plot_roc_curve(fpr, tpr, label='XGBoost Classifier')\n",
    "plt.title('ROC Curve for XGBoost Classifier')\n",
    "plt.legend(loc='lower right')\n",
    "plt.show()\n"
   ]
  },
  {
   "cell_type": "code",
   "execution_count": 35,
   "metadata": {
    "execution": {
     "iopub.execute_input": "2024-11-28T21:28:37.468623Z",
     "iopub.status.busy": "2024-11-28T21:28:37.468202Z",
     "iopub.status.idle": "2024-11-28T21:28:37.532952Z",
     "shell.execute_reply": "2024-11-28T21:28:37.531951Z",
     "shell.execute_reply.started": "2024-11-28T21:28:37.468589Z"
    },
    "trusted": true
   },
   "outputs": [
    {
     "name": "stdout",
     "output_type": "stream",
     "text": [
      "Classification Report for XGBoost:\n",
      "              precision    recall  f1-score   support\n",
      "\n",
      "           0       0.89      0.95      0.92     26052\n",
      "           1       0.74      0.57      0.64      6955\n",
      "\n",
      "    accuracy                           0.87     33007\n",
      "   macro avg       0.82      0.76      0.78     33007\n",
      "weighted avg       0.86      0.87      0.86     33007\n",
      "\n"
     ]
    }
   ],
   "source": [
    "from sklearn.metrics import classification_report\n",
    "\n",
    "# Generate the classification report for the final XGBoost model\n",
    "report = classification_report(y_test, y_pred_xgb)\n",
    "print(\"Classification Report for XGBoost:\")\n",
    "print(report)\n"
   ]
  },
  {
   "cell_type": "code",
   "execution_count": 36,
   "metadata": {},
   "outputs": [
    {
     "data": {
      "text/plain": [
       "['xgb_model.pkl']"
      ]
     },
     "execution_count": 36,
     "metadata": {},
     "output_type": "execute_result"
    }
   ],
   "source": [
    "# Save the model\n",
    "import joblib\n",
    "joblib.dump(best_model, 'xgb_model.pkl')"
   ]
  },
  {
   "cell_type": "code",
   "execution_count": null,
   "metadata": {},
   "outputs": [],
   "source": []
  },
  {
   "cell_type": "code",
   "execution_count": null,
   "metadata": {},
   "outputs": [],
   "source": []
  },
  {
   "cell_type": "code",
   "execution_count": null,
   "metadata": {},
   "outputs": [],
   "source": []
  },
  {
   "cell_type": "code",
   "execution_count": null,
   "metadata": {},
   "outputs": [],
   "source": []
  },
  {
   "cell_type": "code",
   "execution_count": null,
   "metadata": {},
   "outputs": [],
   "source": []
  },
  {
   "cell_type": "code",
   "execution_count": null,
   "metadata": {},
   "outputs": [],
   "source": []
  }
 ],
 "metadata": {
  "kaggle": {
   "accelerator": "none",
   "dataSources": [
    {
     "databundleVersionId": 7405009,
     "sourceId": 65711,
     "sourceType": "competition"
    }
   ],
   "dockerImageVersionId": 30664,
   "isGpuEnabled": false,
   "isInternetEnabled": true,
   "language": "python",
   "sourceType": "notebook"
  },
  "kernelspec": {
   "display_name": "base",
   "language": "python",
   "name": "python3"
  },
  "language_info": {
   "codemirror_mode": {
    "name": "ipython",
    "version": 3
   },
   "file_extension": ".py",
   "mimetype": "text/x-python",
   "name": "python",
   "nbconvert_exporter": "python",
   "pygments_lexer": "ipython3",
   "version": "3.9.12"
  }
 },
 "nbformat": 4,
 "nbformat_minor": 4
}
